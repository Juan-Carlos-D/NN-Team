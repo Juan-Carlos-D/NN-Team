{
 "cells": [
  {
   "cell_type": "markdown",
   "metadata": {},
   "source": [
    "# **Lab: Fairness and Ethical Considerations**"
   ]
  },
  {
   "cell_type": "markdown",
   "metadata": {},
   "source": [
    "In this lab you will investigate and try to uncover biases in a machine learning model. You are free to use most any data as inputs, such as text data, table data, or images. You are free to use the code from class written in Keras/Tensorflow. As always, you can choose a PyTorch implementation if you prefer. The objective of the lab is to measure groups that are treated differently by one of these models. If using code from another author (not your own), you will be graded on the clarity of explanatory comments you add to the code. \n",
    "\n",
    "Here is the rubric for the assignment, worth 15 points total: \n",
    "\n",
    "**[2 Points]** \n",
    "- Present an overview for (1) what type of bias you will be investigating, (2) what pre-trained model you will be investigating, and (3) why the particular investigation you will be doing is relevant.  \n",
    "    - You might consider asking questions like: Why is it important to find this kind of bias in machine learning models? Why will the type of investigation I am performing be relevant to other researchers or practitioners? Why might this particular model treat these groups unfairly?  \n",
    "    - You are free to look and compare bias among any groups. For instance, in class we looked at racial bias in names for a sentiment classifier. However, you might choose to investigate other forms of bias like gender, religion, socioeconomic status, sexual orientation, or another grouping. The aim is to uncover groups that are treated systematically different by a model.  "
   ]
  },
  {
   "cell_type": "markdown",
   "metadata": {},
   "source": [
    "**[2 Points]** \n",
    "- Present one (or more) research question(s) that you will be answering and explain the methods that you will employ to answer these research questions. Present a hypothesis as part of your research question(s).  \n",
    "    - Present a transfer learning classification task that will help to uncover the potential biases in the model. That is, discuss what new transfer learning task can be used and how the new classification task of the model will help to uncover bias or a lack of fairness.  \n"
   ]
  },
  {
   "cell_type": "markdown",
   "metadata": {},
   "source": [
    "**[2 Points]** \n",
    "- Discuss one method for potentially reducing the bias among groups. For example, you might choose a loss function as described here to help reduce bias: [Google AI Fairness](https://developers.google.com/machine-learning/crash-course/fairness/mitigating-bias). Argue for investigating one of these methods.  \n",
    "    - As part of your assignment, you will compare the bias of the original model to that of the model with bias mitigation. \n",
    "    - Discuss how you will measure a difference between the two model outputs. \n",
    "    - That is, if you are measuring the difference statistically, what test will you use and why is it appropriate? \n",
    "    - Are there any limitations to performing this test that you should be aware of? \n"
   ]
  },
  {
   "cell_type": "markdown",
   "metadata": {},
   "source": [
    "**[4 Points]** \n",
    "- Carry out your analysis and model training for the original transfer learned model and the model with bias mitigation. \n",
    "- Explain your steps in as much detail so that the instructor can understand your code.  \n"
   ]
  },
  {
   "cell_type": "markdown",
   "metadata": {},
   "source": [
    "**[4 Points]** \n",
    "- Present results from your analysis and provide evidence from the results that support or refute your hypothesis. \n",
    "- Write a conclusion based upon the various analyses you performed. \n",
    "- Be sure to reference your research questions systematically in your conclusion. \n",
    "- With your analysis complete, are there any additional research questions or limitations to your conclusions?  "
   ]
  },
  {
   "cell_type": "markdown",
   "metadata": {},
   "source": [
    "**[1 Point]** \n",
    "- Identify two conferences or journals that would be interested in the results of your analysis. \n",
    "- Identify why these venues would be interested in this analysis."
   ]
  },
  {
   "cell_type": "markdown",
   "metadata": {},
   "source": []
  }
 ],
 "metadata": {
  "kernelspec": {
   "display_name": "Python 3",
   "language": "python",
   "name": "python3"
  },
  "language_info": {
   "name": "python",
   "version": "3.12.6"
  }
 },
 "nbformat": 4,
 "nbformat_minor": 2
}
